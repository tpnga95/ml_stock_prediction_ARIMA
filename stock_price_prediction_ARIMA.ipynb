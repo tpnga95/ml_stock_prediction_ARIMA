{
 "cells": [
  {
   "cell_type": "markdown",
   "id": "97a3b242",
   "metadata": {},
   "source": [
    "## Introduction \n",
    "\n",
    "In this project, I apply ARIMA method to forecast next day closing price of AAPL (Apple Inc.). The dataset is downloaded from Yahoo Finance. The model is evaluated based on two aspects: \n",
    "* Price Prediction Accuracy: The ability to accurately predict the next day's price. \n",
    "* Price Direction Accuracy: The ability to forecast the direction of the next day's price (increase or decrease). \n",
    "\n",
    "This model is applied for timeframe 1/1/2020-31/12/2021.\n",
    "\n",
    "---"
   ]
  },
  {
   "cell_type": "markdown",
   "id": "50a9d04b",
   "metadata": {},
   "source": [
    "## 1. What is ARIMA model\n",
    "\n",
    "ARIMA (Autoregressive Integrated Moving Average is one of the most popular and effective model in time series forecasting. It is designed to utilize the inherent autocorrelations present in the data to predict future values. The ideology behind ARIMA revolves around three fundamental components:: \n",
    "\n",
    "* Auto Regression: Measure the relationship between an obvervation and its lagged observations.\n",
    "* Intergrated: The step involves differencing the time series data to achieve stationarity. \n",
    "* Moving Avergae: Measure the relationship between an observation with rediual errors from the past value predictions. \n",
    "\n",
    "Implementing ARIMA(p,d,q) model is determining parameters p,d,q which is time lags corresponding to three main components AR, I, and MA. "
   ]
  },
  {
   "cell_type": "markdown",
   "id": "c21e40a0",
   "metadata": {},
   "source": [
    "#### AR - Auto Regressive"
   ]
  },
  {
   "cell_type": "markdown",
   "id": "200be7b4",
   "metadata": {},
   "source": [
    "Auto regressive method utilizes a regression framework to predict a variable based on its past values. An AR model with order p can be written as: \n",
    "$$\n",
    "y_t=c+\\phi_1 y_{t-1}+\\phi_2 y_{t-2}+\\cdots+\\phi_p y_{t-p}+\\varepsilon_t\n",
    "$$\n",
    "$y_t$ represents the variable to be predicted at time t. p is the number of time lags used. The coefficients $\\phi_1,...,\\phi_{t-p}$ determine the influence of each lagged variable on the current value of $y_t$.  Value of $y_t$ is determined by a multiple linear regression of p independent variables $y_{t-1},y_{t-2},...,y_{t-p}$."
   ]
  },
  {
   "cell_type": "markdown",
   "id": "7d701969",
   "metadata": {},
   "source": [
    "#### MA - Moving Average"
   ]
  },
  {
   "cell_type": "markdown",
   "id": "351053d2",
   "metadata": {},
   "source": [
    "The moving average (MA) method aims to capture the relationship between an observation and the residual errors of previous predictions. In an MA model of order q, it can be expressed as follows:\n",
    "$$\n",
    "y_t=c+\\varepsilon_t+\\theta_1 \\varepsilon_{t-1}+\\theta_2 \\varepsilon_{t-2}+\\cdots+\\theta_q \\varepsilon_{t-q}\n",
    "$$\n",
    "The term $\\varepsilon_t$ represents the error or residual at time t, which is the difference between the actual value of $y_t$ and the forecasted value based on previous predictions. The value $y_t$ is computed based on the q errors $\\varepsilon$ made by the previous model. So, each successive term looks one step further into the past to incorporate the mistakes made by that model in the current computation."
   ]
  },
  {
   "cell_type": "markdown",
   "id": "e62b1edc",
   "metadata": {},
   "source": [
    "#### I - Itergrated"
   ]
  },
  {
   "cell_type": "markdown",
   "id": "36de276c",
   "metadata": {},
   "source": [
    "Itergrated is a technique to make time series data stationary, which is a crucial requirement for modeling a time series data. Stationarity is important in time series analysis because it ensures that the statistical properties of the data, such as mean and variance, remain constant over time. This assumption is necessary because if the model is changing over time, it becomes challenging to estimate the parameters accurately.\n",
    "\n",
    "To achieve stationarity, one common approach is differencing, which involves computing the differences between consecutive observations in the time series. Differencing helps stabilize the mean of the time series by eliminating changes in its level, effectively removing trends and seasonality.\n",
    "\n",
    "In the the ARIMA model, the parameter 'd' represents the number of times the differencing operation is applied to the time series. Each differencing operation subtracts the value of the current observation $y_t$ by the lagged value $y_{t-d}$."
   ]
  },
  {
   "cell_type": "markdown",
   "id": "0f9e5af8",
   "metadata": {},
   "source": [
    "--- "
   ]
  },
  {
   "cell_type": "markdown",
   "id": "84faf941",
   "metadata": {},
   "source": [
    "## 2. Determine ARIMA(p,d,q) parameters"
   ]
  },
  {
   "cell_type": "markdown",
   "id": "bc2673a6",
   "metadata": {},
   "source": [
    "I apply ARIMA model to predict the next closing price of Apple stock. The stock price is downloaded from Yahoo Finance.\n",
    "\n",
    "This sector includes: \n",
    "* Import dataset\n",
    "* Check time series stationary and determine I(d)\n",
    "* Determine AR(p), MA(q) parameters by ACF, PACF\n",
    "* Determine AR(p), MA(q), I(d) parameters by Auto ARIMA library"
   ]
  },
  {
   "cell_type": "markdown",
   "id": "37f1e52d",
   "metadata": {},
   "source": [
    "### Import dataset"
   ]
  },
  {
   "cell_type": "code",
   "execution_count": 1,
   "id": "21cc431c",
   "metadata": {},
   "outputs": [],
   "source": [
    "import pandas as pd\n",
    "import numpy as np\n",
    "import matplotlib.pyplot as plt\n",
    "from datetime import datetime\n",
    "from datetime import timedelta\n",
    "import datetime as dt\n",
    "import matplotlib.pyplot as plta\n",
    "from pandas.plotting import register_matplotlib_converters\n",
    "# arima model\n",
    "from statsmodels.tsa.stattools import acf, pacf\n",
    "from statsmodels.tsa.arima.model import ARIMA\n",
    "from statsmodels.tsa.stattools import adfuller\n",
    "from pmdarima.arima import auto_arima\n",
    "import statsmodels.graphics.tsaplots as tsap\n",
    "# error metrics\n",
    "from sklearn.metrics import mean_squared_error, mean_absolute_error\n",
    "# make combination \n",
    "import itertools \n",
    "#\n",
    "import warnings\n",
    "warnings.filterwarnings(\"ignore\")"
   ]
  },
  {
   "cell_type": "code",
   "execution_count": 13,
   "id": "cd6f6678",
   "metadata": {},
   "outputs": [
    {
     "data": {
      "text/html": [
       "<div>\n",
       "<style scoped>\n",
       "    .dataframe tbody tr th:only-of-type {\n",
       "        vertical-align: middle;\n",
       "    }\n",
       "\n",
       "    .dataframe tbody tr th {\n",
       "        vertical-align: top;\n",
       "    }\n",
       "\n",
       "    .dataframe thead th {\n",
       "        text-align: right;\n",
       "    }\n",
       "</style>\n",
       "<table border=\"1\" class=\"dataframe\">\n",
       "  <thead>\n",
       "    <tr style=\"text-align: right;\">\n",
       "      <th></th>\n",
       "      <th>close</th>\n",
       "    </tr>\n",
       "    <tr>\n",
       "      <th>Date</th>\n",
       "      <th></th>\n",
       "    </tr>\n",
       "  </thead>\n",
       "  <tbody>\n",
       "    <tr>\n",
       "      <th>2020-01-02</th>\n",
       "      <td>73.347939</td>\n",
       "    </tr>\n",
       "    <tr>\n",
       "      <th>2020-01-03</th>\n",
       "      <td>72.634842</td>\n",
       "    </tr>\n",
       "    <tr>\n",
       "      <th>2020-01-06</th>\n",
       "      <td>73.213623</td>\n",
       "    </tr>\n",
       "    <tr>\n",
       "      <th>2020-01-07</th>\n",
       "      <td>72.869286</td>\n",
       "    </tr>\n",
       "    <tr>\n",
       "      <th>2020-01-08</th>\n",
       "      <td>74.041489</td>\n",
       "    </tr>\n",
       "  </tbody>\n",
       "</table>\n",
       "</div>"
      ],
      "text/plain": [
       "                close\n",
       "Date                 \n",
       "2020-01-02  73.347939\n",
       "2020-01-03  72.634842\n",
       "2020-01-06  73.213623\n",
       "2020-01-07  72.869286\n",
       "2020-01-08  74.041489"
      ]
     },
     "execution_count": 13,
     "metadata": {},
     "output_type": "execute_result"
    }
   ],
   "source": [
    "ticker = 'AAPL'\n",
    "startdate, enddate = '2020-01-01', '2021-12-31'\n",
    "df_all = pd.read_csv('./data/' + ticker + '.csv')\n",
    "df_all['Date'] = pd.to_datetime(df_all['Date'])\n",
    "df_all.set_index('Date', inplace = True)\n",
    "\n",
    "df = df_all.loc[startdate:enddate,['Adj Close']]\n",
    "df = df.rename(columns = {'Adj Close':'close'})\n",
    "df.head()"
   ]
  },
  {
   "cell_type": "code",
   "execution_count": 8,
   "id": "c40d17fb",
   "metadata": {},
   "outputs": [
    {
     "data": {
      "text/plain": [
       "505"
      ]
     },
     "execution_count": 8,
     "metadata": {},
     "output_type": "execute_result"
    }
   ],
   "source": [
    "N = len(df)\n",
    "N"
   ]
  },
  {
   "cell_type": "markdown",
   "id": "86cfcecd",
   "metadata": {},
   "source": [
    "## 2.1. Check stationary and determine I(d)"
   ]
  },
  {
   "cell_type": "markdown",
   "id": "0898ef18",
   "metadata": {},
   "source": [
    "### Check Stationary "
   ]
  },
  {
   "cell_type": "markdown",
   "id": "d16aefc9",
   "metadata": {},
   "source": [
    "The augmented Dickey-Fuller (ADF) test is widely used to determine the stationarity of a time series. It is a statistical test where the null hypothesis assumes that the time series is non-stationary due to the presence of trends. The alternative hypothesis, on the other hand, suggests that the time series is stationary.\n",
    "\n",
    "To apply the ADF test and assess the stationarity of a time series with a 95% confidence level, you can check if the p-value returned by the adfuller function is less than 0.05. If the p-value is below this threshold, we reject the null hypothesis and conclude that the time series is stationary. Conversely, if the p-value is greater than or equal to 0.05, we fail to reject the null hypothesis, indicating that the time series is non-stationary."
   ]
  },
  {
   "cell_type": "code",
   "execution_count": 9,
   "id": "ee67ed9e",
   "metadata": {},
   "outputs": [],
   "source": [
    "def adfuller_test(data):\n",
    "    test_result = adfuller(data)\n",
    "    print('ADF Statistic: %f' % test_result[0])\n",
    "    print('p-value: %f' % test_result[1])"
   ]
  },
  {
   "cell_type": "code",
   "execution_count": 14,
   "id": "8d1e9238",
   "metadata": {},
   "outputs": [
    {
     "data": {
      "image/png": "[encoded data removed]",
      "text/plain": [
       "<Figure size 640x480 with 1 Axes>"
      ]
     },
     "metadata": {},
     "output_type": "display_data"
    },
    {
     "name": "stdout",
     "output_type": "stream",
     "text": [
      "ADF Statistic: -0.232341\n",
      "p-value: 0.934555\n"
     ]
    }
   ],
   "source": [
    "## Rolling mean and std\n",
    "rolmean = df['close'].rolling(12).mean()\n",
    "rolstd = df['close'].rolling(12).std()\n",
    "plt.plot(df, color='blue',label='Original')\n",
    "plt.plot(rolmean, color='red', label='Rolling Mean')\n",
    "plt.plot(rolstd, color='black', label = 'Rolling Std')\n",
    "plt.legend(loc='best')\n",
    "plt.title('Rolling Mean and Standard Deviation')\n",
    "plt.show(block=False)\n",
    "## adfuller test \n",
    "adfuller_test(df['close'])"
   ]
  },
  {
   "cell_type": "markdown",
   "id": "ad294584",
   "metadata": {},
   "source": [
    "It is obvious that the rolling mean over time of this stock is in an uptrend. p-value generated from Adfuller test is very high. This is non-stationary data.\n"
   ]
  },
  {
   "cell_type": "markdown",
   "id": "6c29a66c",
   "metadata": {},
   "source": [
    "### Implement Itegrated (d) method to make data stationary"
   ]
  },
  {
   "cell_type": "markdown",
   "id": "fb033542",
   "metadata": {},
   "source": [
    "To transfrom this data to stationary form, I use the differencing method with three numbers of d = 1,2,3. "
   ]
  },
  {
   "cell_type": "code",
   "execution_count": 195,
   "id": "92606b80",
   "metadata": {},
   "outputs": [
    {
     "name": "stdout",
     "output_type": "stream",
     "text": [
      "*** Adfullter test for d = 1:\n",
      "ADF Statistic: -25.023766\n",
      "p-value: 0.000000\n",
      "*** Adfullter test for d = 2:\n",
      "ADF Statistic: -4.445814\n",
      "p-value: 0.000246\n",
      "*** Adfullter test for d = 3:\n",
      "ADF Statistic: -4.894004\n",
      "p-value: 0.000036\n"
     ]
    }
   ],
   "source": [
    "#### Make data stationary\n",
    "for d in range(1,4):\n",
    "    print('*** Adfullter test for d = {}:'.format(d))\n",
    "    price_diff = df['close'].diff(d).dropna()\n",
    "    returns = df['close'].pct_change().dropna()\n",
    "    adfuller_test(price_diff)\n",
    "    #plt.plot(price_diff, color='blue')\n",
    "    #plt.title('Differenced price')"
   ]
  },
  {
   "cell_type": "markdown",
   "id": "b8c0ad7c",
   "metadata": {},
   "source": [
    "p-value in three cases are roughly equals 0, the transformed data in three cases with differencing = 1,2,3 are stationary."
   ]
  },
  {
   "cell_type": "markdown",
   "id": "e7c3a2c2",
   "metadata": {},
   "source": [
    "## 2.2. Determine p,q by ACF and PACF"
   ]
  },
  {
   "cell_type": "markdown",
   "id": "47607667",
   "metadata": {},
   "source": [
    "One of most popular methods to choose the value of p,q is using ACF and PACF. They analyze the correlations between the time series and its lagged values to determine the significant lags that should be included in the model: \n",
    "* PACF - Partial Auto Correlation Function measures the direct correlation of an observations with its lagged observations. Higher absoluted PACF score means that higher correlation between two observations. Look for the lag in the PACF plot where significant spikes occur. This indicates the number of autoregressive terms to consider for the model (p)\n",
    "* ACF - Auto Correlation Function measures the correlation between a time series and its lagged values while considering all intermediate lags. The order of MA(q) term is equal to the lags that can cross a significance limit.\n"
   ]
  },
  {
   "cell_type": "code",
   "execution_count": 215,
   "id": "dd0bcd54",
   "metadata": {},
   "outputs": [],
   "source": [
    "def plot_acf_pacf(data, num_lags):\n",
    "    fig, axes = plt.subplots(1,2,figsize=(12,3))    \n",
    "    tsap.plot_pacf(data, lags = num_lags, ax = axes[0])\n",
    "    tsap.plot_acf(data, lags = num_lags, ax = axes[1])\n",
    "    plt.show()"
   ]
  },
  {
   "cell_type": "code",
   "execution_count": 264,
   "id": "7bd466e3",
   "metadata": {},
   "outputs": [
    {
     "name": "stdout",
     "output_type": "stream",
     "text": [
      "*** Integrated d = 1\n"
     ]
    },
    {
     "data": {
      "image/png": "[encoded data removed]",
      "text/plain": [
       "<Figure size 1200x300 with 2 Axes>"
      ]
     },
     "metadata": {},
     "output_type": "display_data"
    },
    {
     "name": "stdout",
     "output_type": "stream",
     "text": [
      "*** Integrated d = 2\n"
     ]
    },
    {
     "data": {
      "image/png": "[encoded data removed]",
      "text/plain": [
       "<Figure size 1200x300 with 2 Axes>"
      ]
     },
     "metadata": {},
     "output_type": "display_data"
    },
    {
     "name": "stdout",
     "output_type": "stream",
     "text": [
      "*** Integrated d = 3\n"
     ]
    },
    {
     "data": {
      "image/png": "[encoded data removed]",
      "text/plain": [
       "<Figure size 1200x300 with 2 Axes>"
      ]
     },
     "metadata": {},
     "output_type": "display_data"
    }
   ],
   "source": [
    "for d in range(1,4):\n",
    "    print('*** Integrated d = {}'.format(d))\n",
    "    price_diff = df['close'].diff(d).dropna()\n",
    "    plot_acf_pacf(price_diff, 20)"
   ]
  },
  {
   "cell_type": "markdown",
   "id": "9d0cdeb5",
   "metadata": {},
   "source": [
    "* Intergated d = 1\n",
    "\n",
    "PACF with time lag 1 is slightly across the statistical threshold, while there is no significant signal in PCA graph. It is recommended to choose p = 1, q = 0. \n",
    "\n",
    "* Intergated d = 2\n",
    "\n",
    "In the PACF plot, there are significant spikes at positions 2, 4, 12. In ACF plot, there is a significant drop-off at position 1. Therefore, we can choose p = 2,4,12, and q = 1.\n",
    "\n",
    "* Intergated d = 3\n",
    "\n",
    "For d = 3, PACF plot has spikes at positions 3,7,10, ACF has drop off point at position 2. We can choose p = 3,7,10, and q = 2.\n",
    "\n",
    "Therefore, it is recommended some combinations of (p,d,q): (1,1,0), (2,2,1), (4,2,1), (12,2,1), (3,3,2), (7,3,2), (10,3,2)"
   ]
  },
  {
   "cell_type": "markdown",
   "id": "bd4132d2",
   "metadata": {},
   "source": [
    "## 2.3. Auto ARIMA"
   ]
  },
  {
   "cell_type": "markdown",
   "id": "b5980ad7",
   "metadata": {},
   "source": [
    "Auto ARIMA is available library to choose optimal parameters for ARIMA model by optimizing AIC score. I apply auto ARIMA for three cases of d = 1,2,3"
   ]
  },
  {
   "cell_type": "code",
   "execution_count": 249,
   "id": "341902d2",
   "metadata": {},
   "outputs": [],
   "source": [
    "## Split data \n",
    "train_data, test_data = df.iloc[:int(N*0.9),:], df.iloc[int(N*0.9):,:]\n",
    "N_train, N_test = len(train_data), len(test_data)"
   ]
  },
  {
   "cell_type": "code",
   "execution_count": 251,
   "id": "f28c3f44",
   "metadata": {},
   "outputs": [
    {
     "name": "stdout",
     "output_type": "stream",
     "text": [
      "Performing stepwise search to minimize aic\n",
      " ARIMA(0,1,0)(0,0,0)[0] intercept   : AIC=2063.963, Time=0.08 sec\n",
      " ARIMA(1,1,0)(0,0,0)[0] intercept   : AIC=2058.942, Time=0.06 sec\n",
      " ARIMA(0,1,1)(0,0,0)[0] intercept   : AIC=2059.389, Time=0.05 sec\n",
      " ARIMA(0,1,0)(0,0,0)[0]             : AIC=2064.140, Time=0.02 sec\n",
      " ARIMA(2,1,0)(0,0,0)[0] intercept   : AIC=2060.483, Time=0.08 sec\n",
      " ARIMA(1,1,1)(0,0,0)[0] intercept   : AIC=2060.206, Time=0.11 sec\n",
      " ARIMA(2,1,1)(0,0,0)[0] intercept   : AIC=2062.203, Time=0.17 sec\n",
      " ARIMA(1,1,0)(0,0,0)[0]             : AIC=2059.709, Time=0.03 sec\n",
      "\n",
      "Best model:  ARIMA(1,1,0)(0,0,0)[0] intercept\n",
      "Total fit time: 0.712 seconds\n",
      "                               SARIMAX Results                                \n",
      "==============================================================================\n",
      "Dep. Variable:                      y   No. Observations:                  454\n",
      "Model:               SARIMAX(1, 1, 0)   Log Likelihood               -1026.471\n",
      "Date:                Sun, 25 Jun 2023   AIC                           2058.942\n",
      "Time:                        11:39:13   BIC                           2071.289\n",
      "Sample:                             0   HQIC                          2063.807\n",
      "                                - 454                                         \n",
      "Covariance Type:                  opg                                         \n",
      "==============================================================================\n",
      "                 coef    std err          z      P>|z|      [0.025      0.975]\n",
      "------------------------------------------------------------------------------\n",
      "intercept      0.1831      0.110      1.657      0.097      -0.033       0.400\n",
      "ar.L1         -0.1240      0.040     -3.125      0.002      -0.202      -0.046\n",
      "sigma2         5.4410      0.253     21.526      0.000       4.946       5.936\n",
      "===================================================================================\n",
      "Ljung-Box (L1) (Q):                   0.01   Jarque-Bera (JB):                92.82\n",
      "Prob(Q):                              0.94   Prob(JB):                         0.00\n",
      "Heteroskedasticity (H):               0.64   Skew:                            -0.22\n",
      "Prob(H) (two-sided):                  0.01   Kurtosis:                         5.17\n",
      "===================================================================================\n",
      "\n",
      "Warnings:\n",
      "[1] Covariance matrix calculated using the outer product of gradients (complex-step).\n",
      "Performing stepwise search to minimize aic\n",
      " ARIMA(0,2,0)(0,0,0)[0] intercept   : AIC=2426.173, Time=0.02 sec\n",
      " ARIMA(1,2,0)(0,0,0)[0] intercept   : AIC=2246.164, Time=0.05 sec\n",
      " ARIMA(0,2,1)(0,0,0)[0] intercept   : AIC=inf, Time=0.24 sec\n",
      " ARIMA(0,2,0)(0,0,0)[0]             : AIC=2424.174, Time=0.02 sec\n",
      " ARIMA(2,2,0)(0,0,0)[0] intercept   : AIC=2199.945, Time=0.11 sec\n",
      " ARIMA(3,2,0)(0,0,0)[0] intercept   : AIC=2169.380, Time=0.11 sec\n",
      " ARIMA(4,2,0)(0,0,0)[0] intercept   : AIC=2148.002, Time=0.13 sec\n",
      " ARIMA(5,2,0)(0,0,0)[0] intercept   : AIC=2140.952, Time=0.12 sec\n",
      " ARIMA(6,2,0)(0,0,0)[0] intercept   : AIC=2123.048, Time=0.14 sec\n",
      " ARIMA(7,2,0)(0,0,0)[0] intercept   : AIC=2121.772, Time=0.17 sec\n",
      " ARIMA(8,2,0)(0,0,0)[0] intercept   : AIC=2110.409, Time=0.16 sec\n",
      " ARIMA(9,2,0)(0,0,0)[0] intercept   : AIC=2107.032, Time=0.20 sec\n",
      " ARIMA(10,2,0)(0,0,0)[0] intercept   : AIC=2106.125, Time=0.27 sec\n",
      " ARIMA(10,2,1)(0,0,0)[0] intercept   : AIC=inf, Time=1.26 sec\n",
      " ARIMA(9,2,1)(0,0,0)[0] intercept   : AIC=inf, Time=1.11 sec\n",
      " ARIMA(10,2,0)(0,0,0)[0]             : AIC=2104.132, Time=0.12 sec\n",
      " ARIMA(9,2,0)(0,0,0)[0]             : AIC=2105.038, Time=0.12 sec\n",
      " ARIMA(10,2,1)(0,0,0)[0]             : AIC=inf, Time=1.03 sec\n",
      " ARIMA(9,2,1)(0,0,0)[0]             : AIC=inf, Time=0.76 sec\n",
      "\n",
      "Best model:  ARIMA(10,2,0)(0,0,0)[0]          \n",
      "Total fit time: 6.143 seconds\n",
      "                               SARIMAX Results                                \n",
      "==============================================================================\n",
      "Dep. Variable:                      y   No. Observations:                  454\n",
      "Model:              SARIMAX(10, 2, 0)   Log Likelihood               -1041.066\n",
      "Date:                Sun, 25 Jun 2023   AIC                           2104.132\n",
      "Time:                        11:39:20   BIC                           2149.382\n",
      "Sample:                             0   HQIC                          2121.963\n",
      "                                - 454                                         \n",
      "Covariance Type:                  opg                                         \n",
      "==============================================================================\n",
      "                 coef    std err          z      P>|z|      [0.025      0.975]\n",
      "------------------------------------------------------------------------------\n",
      "ar.L1         -1.0243      0.042    -24.241      0.000      -1.107      -0.941\n",
      "ar.L2         -0.9025      0.057    -15.912      0.000      -1.014      -0.791\n",
      "ar.L3         -0.8433      0.072    -11.669      0.000      -0.985      -0.702\n",
      "ar.L4         -0.7482      0.084     -8.892      0.000      -0.913      -0.583\n",
      "ar.L5         -0.6411      0.086     -7.492      0.000      -0.809      -0.473\n",
      "ar.L6         -0.5685      0.085     -6.676      0.000      -0.735      -0.402\n",
      "ar.L7         -0.4117      0.079     -5.231      0.000      -0.566      -0.257\n",
      "ar.L8         -0.3493      0.075     -4.686      0.000      -0.495      -0.203\n",
      "ar.L9         -0.1895      0.063     -3.008      0.003      -0.313      -0.066\n",
      "ar.L10        -0.0796      0.044     -1.819      0.069      -0.165       0.006\n",
      "sigma2         5.8385      0.286     20.407      0.000       5.278       6.399\n",
      "===================================================================================\n",
      "Ljung-Box (L1) (Q):                   0.04   Jarque-Bera (JB):               110.68\n",
      "Prob(Q):                              0.85   Prob(JB):                         0.00\n",
      "Heteroskedasticity (H):               0.69   Skew:                            -0.13\n",
      "Prob(H) (two-sided):                  0.02   Kurtosis:                         5.41\n",
      "===================================================================================\n",
      "\n",
      "Warnings:\n",
      "[1] Covariance matrix calculated using the outer product of gradients (complex-step).\n",
      "Performing stepwise search to minimize aic\n",
      " ARIMA(0,3,0)(0,0,0)[0]             : AIC=2937.573, Time=0.02 sec\n",
      " ARIMA(1,3,0)(0,0,0)[0]             : AIC=2610.001, Time=0.02 sec\n",
      " ARIMA(0,3,1)(0,0,0)[0]             : AIC=inf, Time=0.09 sec\n",
      " ARIMA(2,3,0)(0,0,0)[0]             : AIC=2483.204, Time=0.04 sec\n",
      " ARIMA(3,3,0)(0,0,0)[0]             : AIC=2407.401, Time=0.05 sec\n",
      " ARIMA(4,3,0)(0,0,0)[0]             : AIC=2344.070, Time=0.06 sec\n",
      " ARIMA(5,3,0)(0,0,0)[0]             : AIC=2319.147, Time=0.06 sec\n",
      " ARIMA(6,3,0)(0,0,0)[0]             : AIC=2276.671, Time=0.08 sec\n",
      " ARIMA(7,3,0)(0,0,0)[0]             : AIC=2264.025, Time=0.09 sec\n",
      " ARIMA(8,3,0)(0,0,0)[0]             : AIC=2243.806, Time=0.11 sec\n",
      " ARIMA(9,3,0)(0,0,0)[0]             : AIC=2225.541, Time=0.12 sec\n",
      " ARIMA(10,3,0)(0,0,0)[0]             : AIC=2213.679, Time=0.16 sec\n",
      " ARIMA(10,3,1)(0,0,0)[0]             : AIC=inf, Time=1.00 sec\n",
      " ARIMA(9,3,1)(0,0,0)[0]             : AIC=inf, Time=0.96 sec\n",
      " ARIMA(10,3,0)(0,0,0)[0] intercept   : AIC=2215.676, Time=0.38 sec\n",
      "\n",
      "Best model:  ARIMA(10,3,0)(0,0,0)[0]          \n",
      "Total fit time: 3.236 seconds\n",
      "                               SARIMAX Results                                \n",
      "==============================================================================\n",
      "Dep. Variable:                      y   No. Observations:                  454\n",
      "Model:              SARIMAX(10, 3, 0)   Log Likelihood               -1095.840\n",
      "Date:                Sun, 25 Jun 2023   AIC                           2213.679\n",
      "Time:                        11:39:23   BIC                           2258.905\n",
      "Sample:                             0   HQIC                          2231.503\n",
      "                                - 454                                         \n",
      "Covariance Type:                  opg                                         \n",
      "==============================================================================\n",
      "                 coef    std err          z      P>|z|      [0.025      0.975]\n",
      "------------------------------------------------------------------------------\n",
      "ar.L1         -1.7669      0.044    -40.030      0.000      -1.853      -1.680\n",
      "ar.L2         -2.1731      0.089    -24.355      0.000      -2.348      -1.998\n",
      "ar.L3         -2.3473      0.123    -19.148      0.000      -2.588      -2.107\n",
      "ar.L4         -2.3023      0.140    -16.500      0.000      -2.576      -2.029\n",
      "ar.L5         -2.0767      0.155    -13.426      0.000      -2.380      -1.774\n",
      "ar.L6         -1.7677      0.164    -10.792      0.000      -2.089      -1.447\n",
      "ar.L7         -1.3321      0.158     -8.455      0.000      -1.641      -1.023\n",
      "ar.L8         -0.9328      0.133     -7.024      0.000      -1.193      -0.673\n",
      "ar.L9         -0.5094      0.095     -5.337      0.000      -0.697      -0.322\n",
      "ar.L10        -0.1732      0.049     -3.537      0.000      -0.269      -0.077\n",
      "sigma2         7.4740      0.396     18.853      0.000       6.697       8.251\n",
      "===================================================================================\n",
      "Ljung-Box (L1) (Q):                   0.76   Jarque-Bera (JB):                45.97\n",
      "Prob(Q):                              0.38   Prob(JB):                         0.00\n",
      "Heteroskedasticity (H):               0.68   Skew:                             0.05\n",
      "Prob(H) (two-sided):                  0.02   Kurtosis:                         4.56\n",
      "===================================================================================\n",
      "\n",
      "Warnings:\n",
      "[1] Covariance matrix calculated using the outer product of gradients (complex-step).\n"
     ]
    }
   ],
   "source": [
    "#### Auto ARIMA\n",
    "train_data = train_data\n",
    "for d in range(1,4):\n",
    "    model_autoARIMA = auto_arima(train_data, start_p=0, start_q=0,\n",
    "                          test='adf',       # use adftest to find optimal 'd'\n",
    "                          max_p=10, max_q=10, max_d = 3, # maximum p and q\n",
    "                          m=0,              # frequency of series\n",
    "                          d=d,           # let model determine 'd'\n",
    "                          seasonal=False,   # No Seasonality                      \n",
    "                          trace=True,\n",
    "                          error_action='ignore',  \n",
    "                          suppress_warnings=True, \n",
    "                          stepwise=True)\n",
    "    print(model_autoARIMA.summary())\n",
    "#model_autoARIMA.plot_diagnostics(figsize=(15,8))\n",
    "#plt.show()"
   ]
  },
  {
   "cell_type": "markdown",
   "id": "55663331",
   "metadata": {},
   "source": [
    "Auto ARIMA function suggests three optimal parameters combination for ARIMA model with d = 1,2,3 are (1,1,0), (10,2,0), (10,3,1)."
   ]
  },
  {
   "cell_type": "markdown",
   "id": "7cf13ffe",
   "metadata": {},
   "source": [
    "---"
   ]
  },
  {
   "cell_type": "markdown",
   "id": "84d2ae14",
   "metadata": {},
   "source": [
    "## 3. Implement ARIMA model"
   ]
  },
  {
   "cell_type": "markdown",
   "id": "00db91d4",
   "metadata": {},
   "source": [
    "I apply ARIMA with 8 different parameters combinations defined by PCF, PACF methods, and Auto ARIMA method:\n",
    "(1,1,0), (2,2,1), (4,2,1), (12,2,1), (3,3,2), (7,3,2), (10,3,2), (10,2,0), (10,3,0).\n",
    "\n",
    "ARIMA model will be tested on the 20% of data. During the testing phase, a rolling prediction approach is employed. For each testing point, the model is re-created and trained using all the available previous data. Then, a prediction is made for the next day's price. \n",
    "\n",
    "The performance of the model will be evaluated based on two aspects:\n",
    "* Price Prediction Accuracy: This aspect measures how well the model predicts the next day's price. The accuracy can be quantified using the Root Mean Squared Error (RMSE), which calculates the average difference between the forecasted prices and the actual prices. A lower RMSE indicates a higher accuracy in price prediction.\n",
    "* Price Direction Accuracy: In addition to predicting the exact price, I am interested in assessing the model's ability to predict the direction of the next day's price. The direction can be defined as whether the price will increase or decrease compared to the current day's price. Based on the predicted price, the direction is  determined. The accuracy rate is dividing the number of correct direction predictions by the total number of test cases."
   ]
  },
  {
   "cell_type": "code",
   "execution_count": 44,
   "id": "f6f82a04",
   "metadata": {},
   "outputs": [],
   "source": [
    "def plot_predict_result(train_data, test_data, pred_data, title):\n",
    "# Plot train, test, predicted data\n",
    "    plt.figure(figsize=(10,5), dpi=100)\n",
    "    plt.plot(train_data, label='Training data')\n",
    "    plt.plot(test_data, color = 'blue', label='Actual Price')\n",
    "    plt.plot(pred_data, color = 'orange',label='Predicted Price')    \n",
    "    plt.title(title)\n",
    "    plt.xlabel('Time')\n",
    "    plt.ylabel('Stock Price')\n",
    "    plt.legend(loc='upper left', fontsize=8)\n",
    "    plt.show()"
   ]
  },
  {
   "cell_type": "code",
   "execution_count": 170,
   "id": "bf120e51",
   "metadata": {},
   "outputs": [],
   "source": [
    "def arima_model(df, test_data, order):\n",
    "# implement arima model, make rolling prediction\n",
    "    pred_prices = []\n",
    "    for pred_date in test_data.index: \n",
    "        train_data = df.loc[:pred_date - timedelta(days = 1):,:]        \n",
    "        model = ARIMA(train_data, order=order, enforce_stationarity=False).fit()\n",
    "        pred = model.predict(len(train_data)+1).values[0]\n",
    "        pred_prices.append(pred)    \n",
    "    pred_prices = pd.Series(pred_prices)\n",
    "    pred_prices.index = test_data.index\n",
    "    return(pred_prices)"
   ]
  },
  {
   "cell_type": "code",
   "execution_count": 220,
   "id": "493f7db7",
   "metadata": {},
   "outputs": [],
   "source": [
    "def price_direction_accuracy(df, pred_prices, N_train, N_test):\n",
    "    actual_directions = df.iloc[N_train:,:]['close'].pct_change().dropna()\n",
    "    actual_prev_prices = df.iloc[N_train:,:]['close'].shift(1).dropna()\n",
    "    pred_directions = (pred_prices - actual_prev_prices)/actual_prev_prices\n",
    "    direction_accuracy = (actual_directions[1:]*pred_directions[1:]>0).sum()/N_test \n",
    "    return(direction_accuracy)"
   ]
  },
  {
   "cell_type": "code",
   "execution_count": 255,
   "id": "477dc391",
   "metadata": {},
   "outputs": [],
   "source": [
    "## Split data \n",
    "split = 0.8\n",
    "train_data, test_data = df.iloc[:int(N*split),:], df.iloc[int(N*split):,:]\n",
    "N_train, N_test = len(train_data), len(test_data)\n",
    "## ARIMA parameters\n",
    "orders = [(1,1,0), (2,2,1), (4,2,1), (12,2,1), (3,3,2), (7,3,2), (10,3,2), (10,2,0), (10,3,0)]\n",
    "rmse_scores, direction_accuracy = [],[]\n",
    "for order in orders:\n",
    "    pred_prices = arima_model(df, test_data, order)\n",
    "    rmse_scores.append(np.sqrt(mean_squared_error(test_data, pred_prices)))\n",
    "    direction_accuracy.append(price_direction_accuracy(df, pred_prices, N_train, N_test))\n",
    "result1 = pd.DataFrame([orders, rmse_scores, direction_accuracy]).T"
   ]
  },
  {
   "cell_type": "code",
   "execution_count": 265,
   "id": "b53e6725",
   "metadata": {},
   "outputs": [
    {
     "data": {
      "text/html": [
       "<div>\n",
       "<style scoped>\n",
       "    .dataframe tbody tr th:only-of-type {\n",
       "        vertical-align: middle;\n",
       "    }\n",
       "\n",
       "    .dataframe tbody tr th {\n",
       "        vertical-align: top;\n",
       "    }\n",
       "\n",
       "    .dataframe thead th {\n",
       "        text-align: right;\n",
       "    }\n",
       "</style>\n",
       "<table border=\"1\" class=\"dataframe\">\n",
       "  <thead>\n",
       "    <tr style=\"text-align: right;\">\n",
       "      <th></th>\n",
       "      <th>Parameters</th>\n",
       "      <th>Price Accuracy (RMSE)</th>\n",
       "      <th>Price Direction Accuracy</th>\n",
       "    </tr>\n",
       "  </thead>\n",
       "  <tbody>\n",
       "    <tr>\n",
       "      <th>0</th>\n",
       "      <td>(1, 1, 0)</td>\n",
       "      <td>2.315875</td>\n",
       "      <td>0.445545</td>\n",
       "    </tr>\n",
       "    <tr>\n",
       "      <th>1</th>\n",
       "      <td>(2, 2, 1)</td>\n",
       "      <td>2.292717</td>\n",
       "      <td>0.554455</td>\n",
       "    </tr>\n",
       "    <tr>\n",
       "      <th>2</th>\n",
       "      <td>(4, 2, 1)</td>\n",
       "      <td>2.295841</td>\n",
       "      <td>0.544554</td>\n",
       "    </tr>\n",
       "    <tr>\n",
       "      <th>3</th>\n",
       "      <td>(12, 2, 1)</td>\n",
       "      <td>2.335699</td>\n",
       "      <td>0.524752</td>\n",
       "    </tr>\n",
       "    <tr>\n",
       "      <th>4</th>\n",
       "      <td>(3, 3, 2)</td>\n",
       "      <td>2.398532</td>\n",
       "      <td>0.554455</td>\n",
       "    </tr>\n",
       "    <tr>\n",
       "      <th>5</th>\n",
       "      <td>(7, 3, 2)</td>\n",
       "      <td>2.885441</td>\n",
       "      <td>0.435644</td>\n",
       "    </tr>\n",
       "    <tr>\n",
       "      <th>6</th>\n",
       "      <td>(10, 3, 2)</td>\n",
       "      <td>2.838426</td>\n",
       "      <td>0.50495</td>\n",
       "    </tr>\n",
       "    <tr>\n",
       "      <th>7</th>\n",
       "      <td>(10, 2, 0)</td>\n",
       "      <td>2.694122</td>\n",
       "      <td>0.50495</td>\n",
       "    </tr>\n",
       "    <tr>\n",
       "      <th>8</th>\n",
       "      <td>(10, 3, 0)</td>\n",
       "      <td>4.007514</td>\n",
       "      <td>0.39604</td>\n",
       "    </tr>\n",
       "  </tbody>\n",
       "</table>\n",
       "</div>"
      ],
      "text/plain": [
       "   Parameters Price Accuracy (RMSE) Price Direction Accuracy\n",
       "0   (1, 1, 0)              2.315875                 0.445545\n",
       "1   (2, 2, 1)              2.292717                 0.554455\n",
       "2   (4, 2, 1)              2.295841                 0.544554\n",
       "3  (12, 2, 1)              2.335699                 0.524752\n",
       "4   (3, 3, 2)              2.398532                 0.554455\n",
       "5   (7, 3, 2)              2.885441                 0.435644\n",
       "6  (10, 3, 2)              2.838426                  0.50495\n",
       "7  (10, 2, 0)              2.694122                  0.50495\n",
       "8  (10, 3, 0)              4.007514                  0.39604"
      ]
     },
     "execution_count": 265,
     "metadata": {},
     "output_type": "execute_result"
    }
   ],
   "source": [
    "result1.columns = ['Parameters', 'Price Accuracy (RMSE)', 'Price Direction Accuracy']\n",
    "result1"
   ]
  },
  {
   "cell_type": "markdown",
   "id": "58ef1269",
   "metadata": {},
   "source": [
    "Among 8 combinations of (p,d,q) that were employed, it appears that using a value of d = 2 yields better accuracy rates for both price prediction and price direction prediction. Increasing the value of p does not contribute to improving the accuracy. \n",
    "\n",
    "To select the best model, I further expanded the analysis by generating more models with the parameter d set to 2, while varying the value of p from 0 to 4, and the value of q from 0 to 2."
   ]
  },
  {
   "cell_type": "code",
   "execution_count": 237,
   "id": "1df7286f",
   "metadata": {},
   "outputs": [],
   "source": [
    "p_values = range(0,5)\n",
    "d_values = range(2,3)\n",
    "q_values = range(0,3)\n",
    "pdq_combinations = list(itertools.product(p_values, d_values, q_values))\n",
    "\n",
    "rmse_scores, direction_accuracy = [],[]\n",
    "for order in pdq_combinations:\n",
    "    pred_prices = arima_model(df, test_data, order)\n",
    "    rmse_scores.append(np.sqrt(mean_squared_error(test_data, pred_prices)))\n",
    "    direction_accuracy.append(price_direction_accuracy(df, pred_prices, N_train, N_test))\n",
    "result2 = pd.DataFrame([pdq_combinations, rmse_scores, direction_accuracy]).T"
   ]
  },
  {
   "cell_type": "code",
   "execution_count": 260,
   "id": "8a0a6960",
   "metadata": {},
   "outputs": [
    {
     "data": {
      "text/html": [
       "<div>\n",
       "<style scoped>\n",
       "    .dataframe tbody tr th:only-of-type {\n",
       "        vertical-align: middle;\n",
       "    }\n",
       "\n",
       "    .dataframe tbody tr th {\n",
       "        vertical-align: top;\n",
       "    }\n",
       "\n",
       "    .dataframe thead th {\n",
       "        text-align: right;\n",
       "    }\n",
       "</style>\n",
       "<table border=\"1\" class=\"dataframe\">\n",
       "  <thead>\n",
       "    <tr style=\"text-align: right;\">\n",
       "      <th></th>\n",
       "      <th>Parameters</th>\n",
       "      <th>Price Accuracy (RMSE)</th>\n",
       "      <th>Price Direction Accuracy</th>\n",
       "    </tr>\n",
       "  </thead>\n",
       "  <tbody>\n",
       "    <tr>\n",
       "      <th>0</th>\n",
       "      <td>(0, 2, 0)</td>\n",
       "      <td>5.05881</td>\n",
       "      <td>0.534653</td>\n",
       "    </tr>\n",
       "    <tr>\n",
       "      <th>1</th>\n",
       "      <td>(0, 2, 1)</td>\n",
       "      <td>2.275615</td>\n",
       "      <td>0.554455</td>\n",
       "    </tr>\n",
       "    <tr>\n",
       "      <th>2</th>\n",
       "      <td>(0, 2, 2)</td>\n",
       "      <td>2.296066</td>\n",
       "      <td>0.584158</td>\n",
       "    </tr>\n",
       "    <tr>\n",
       "      <th>3</th>\n",
       "      <td>(1, 2, 0)</td>\n",
       "      <td>4.020934</td>\n",
       "      <td>0.514851</td>\n",
       "    </tr>\n",
       "    <tr>\n",
       "      <th>4</th>\n",
       "      <td>(1, 2, 1)</td>\n",
       "      <td>2.29469</td>\n",
       "      <td>0.574257</td>\n",
       "    </tr>\n",
       "    <tr>\n",
       "      <th>5</th>\n",
       "      <td>(1, 2, 2)</td>\n",
       "      <td>2.288058</td>\n",
       "      <td>0.554455</td>\n",
       "    </tr>\n",
       "    <tr>\n",
       "      <th>6</th>\n",
       "      <td>(2, 2, 0)</td>\n",
       "      <td>3.647453</td>\n",
       "      <td>0.445545</td>\n",
       "    </tr>\n",
       "    <tr>\n",
       "      <th>7</th>\n",
       "      <td>(2, 2, 1)</td>\n",
       "      <td>2.292717</td>\n",
       "      <td>0.554455</td>\n",
       "    </tr>\n",
       "    <tr>\n",
       "      <th>8</th>\n",
       "      <td>(2, 2, 2)</td>\n",
       "      <td>2.294312</td>\n",
       "      <td>0.544554</td>\n",
       "    </tr>\n",
       "    <tr>\n",
       "      <th>9</th>\n",
       "      <td>(3, 2, 0)</td>\n",
       "      <td>3.409398</td>\n",
       "      <td>0.386139</td>\n",
       "    </tr>\n",
       "    <tr>\n",
       "      <th>10</th>\n",
       "      <td>(3, 2, 1)</td>\n",
       "      <td>2.29495</td>\n",
       "      <td>0.554455</td>\n",
       "    </tr>\n",
       "    <tr>\n",
       "      <th>11</th>\n",
       "      <td>(3, 2, 2)</td>\n",
       "      <td>2.292011</td>\n",
       "      <td>0.544554</td>\n",
       "    </tr>\n",
       "    <tr>\n",
       "      <th>12</th>\n",
       "      <td>(4, 2, 0)</td>\n",
       "      <td>3.180145</td>\n",
       "      <td>0.376238</td>\n",
       "    </tr>\n",
       "    <tr>\n",
       "      <th>13</th>\n",
       "      <td>(4, 2, 1)</td>\n",
       "      <td>2.295841</td>\n",
       "      <td>0.544554</td>\n",
       "    </tr>\n",
       "    <tr>\n",
       "      <th>14</th>\n",
       "      <td>(4, 2, 2)</td>\n",
       "      <td>2.294454</td>\n",
       "      <td>0.534653</td>\n",
       "    </tr>\n",
       "  </tbody>\n",
       "</table>\n",
       "</div>"
      ],
      "text/plain": [
       "   Parameters Price Accuracy (RMSE) Price Direction Accuracy\n",
       "0   (0, 2, 0)               5.05881                 0.534653\n",
       "1   (0, 2, 1)              2.275615                 0.554455\n",
       "2   (0, 2, 2)              2.296066                 0.584158\n",
       "3   (1, 2, 0)              4.020934                 0.514851\n",
       "4   (1, 2, 1)               2.29469                 0.574257\n",
       "5   (1, 2, 2)              2.288058                 0.554455\n",
       "6   (2, 2, 0)              3.647453                 0.445545\n",
       "7   (2, 2, 1)              2.292717                 0.554455\n",
       "8   (2, 2, 2)              2.294312                 0.544554\n",
       "9   (3, 2, 0)              3.409398                 0.386139\n",
       "10  (3, 2, 1)               2.29495                 0.554455\n",
       "11  (3, 2, 2)              2.292011                 0.544554\n",
       "12  (4, 2, 0)              3.180145                 0.376238\n",
       "13  (4, 2, 1)              2.295841                 0.544554\n",
       "14  (4, 2, 2)              2.294454                 0.534653"
      ]
     },
     "execution_count": 260,
     "metadata": {},
     "output_type": "execute_result"
    }
   ],
   "source": [
    "result2.columns = ['Parameters', 'Price Accuracy (RMSE)', 'Price Direction Accuracy']\n",
    "result2"
   ]
  },
  {
   "cell_type": "markdown",
   "id": "11d895b7",
   "metadata": {},
   "source": [
    "### Conclusion"
   ]
  },
  {
   "cell_type": "markdown",
   "id": "d631e2c5",
   "metadata": {},
   "source": [
    "In terms of price prediction accuracy, the model with parameters (0, 2, 1) observes the lowest RMSE value of 2.27. However, the difference in accuracy between this model and several other combinations, such as (0,2,2), (1,2,1), (1,2,2), (2,2,1), (3,2,1), (3,2,2), (4,2,1), (4,2,2), was not significant, as they had accuracy rates ranging between 2.8 and 3. \n",
    "\n",
    "When it comes to price direction accuracy, the model with parameters (0, 2, 2) achieved the highest accuracy rate of 0.584.\n",
    "\n",
    "In conclusion, when considering the price prediction accuracy, ARIMA (0,2,1) has lowest RMSE of 2.27. When considering the both aspects of price prediction accuracy and price direction accuracy, ARIMA (0,2,2) performs the best."
   ]
  },
  {
   "cell_type": "markdown",
   "id": "ee81b208",
   "metadata": {},
   "source": [
    "### ARIMA(0,2,2)"
   ]
  },
  {
   "cell_type": "code",
   "execution_count": 261,
   "id": "c3e9b85f",
   "metadata": {},
   "outputs": [],
   "source": [
    "pred_prices = arima_model(df, test_data, (0,2,2))\n",
    "rmse = np.sqrt(mean_squared_error(test_data, pred_prices))"
   ]
  },
  {
   "cell_type": "code",
   "execution_count": 262,
   "id": "dc836912",
   "metadata": {},
   "outputs": [
    {
     "data": {
      "image/png": "[encoded data removed]",
      "text/plain": [
       "<Figure size 1000x500 with 1 Axes>"
      ]
     },
     "metadata": {},
     "output_type": "display_data"
    },
    {
     "name": "stdout",
     "output_type": "stream",
     "text": [
      "Root Mean Squared Error: 2.296\n"
     ]
    }
   ],
   "source": [
    "plot_predict_result(df.iloc[:N_train,:], df.iloc[N_train:,:], pred_prices\n",
    "                    , 'APPL Price Prediction - ARIMA(0,2,2)')\n",
    "print(f'Root Mean Squared Error: {rmse:.3f}')"
   ]
  },
  {
   "cell_type": "markdown",
   "id": "f3685e22",
   "metadata": {},
   "source": [
    "## Reference\n",
    "\n",
    "https://otexts.com/fpp3/stationarity.html\n",
    "\n",
    "https://www.youtube.com/watch?v=oY-j2Wof51c\n",
    "\n",
    "https://pub.towardsai.net/time-series-forecasting-with-arima-models-in-python-part-1-c2940a7dbc48\n",
    "    "
   ]
  }
 ],
 "metadata": {
  "kernelspec": {
   "display_name": "Python 3 (ipykernel)",
   "language": "python",
   "name": "python3"
  },
  "language_info": {
   "codemirror_mode": {
    "name": "ipython",
    "version": 3
   },
   "file_extension": ".py",
   "mimetype": "text/x-python",
   "name": "python",
   "nbconvert_exporter": "python",
   "pygments_lexer": "ipython3",
   "version": "3.8.13"
  }
 },
 "nbformat": 4,
 "nbformat_minor": 5
}
